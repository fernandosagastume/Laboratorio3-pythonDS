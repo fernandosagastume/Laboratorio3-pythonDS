{
 "cells": [
  {
   "attachments": {},
   "cell_type": "markdown",
   "metadata": {},
   "source": [
    "## Parte 1: Numpy:\n",
    "Para los ejercicios siguiente genere el código que considere para resolver el problema que se le plantea."
   ]
  },
  {
   "cell_type": "code",
   "execution_count": 44,
   "metadata": {},
   "outputs": [],
   "source": [
    "# Celda para almacenar los imports\n",
    "import sys\n",
    "import numpy as np\n",
    "import pandas as pd\n",
    "import matplotlib.pyplot as plt\n",
    "import random"
   ]
  },
  {
   "attachments": {},
   "cell_type": "markdown",
   "metadata": {},
   "source": [
    "1. ¿Cuál es el tamaño en bytes de un array de 1000 elementos de tipo booleano?"
   ]
  },
  {
   "cell_type": "code",
   "execution_count": 4,
   "metadata": {},
   "outputs": [
    {
     "name": "stdout",
     "output_type": "stream",
     "text": [
      "El tamaño del array de booleanos es: 8056 bytes\n"
     ]
    }
   ],
   "source": [
    "bool_array = [True] * 1000\n",
    "size = sys.getsizeof(bool_array)\n",
    "print(\"El tamaño del array de booleanos es:\", size, \"bytes\")"
   ]
  },
  {
   "attachments": {},
   "cell_type": "markdown",
   "metadata": {},
   "source": [
    "2. Cree un array cuyos elementos sean los enteros pares en [1,100] y en orden decreciente. Muestre los 10 últimos por pantalla."
   ]
  },
  {
   "cell_type": "code",
   "execution_count": 5,
   "metadata": {},
   "outputs": [
    {
     "name": "stdout",
     "output_type": "stream",
     "text": [
      "Los últimos 10 números pares son: [20, 18, 16, 14, 12, 10, 8, 6, 4, 2]\n"
     ]
    }
   ],
   "source": [
    "pares = [i for i in range(100, 0, -2)]\n",
    "ultimos_10 = pares[-10:]\n",
    "print(\"Los últimos 10 números pares son:\", ultimos_10)"
   ]
  },
  {
   "attachments": {},
   "cell_type": "markdown",
   "metadata": {},
   "source": [
    "3. Dado el array\n",
    "                    [[2 4 5 6],\n",
    "                    [0 3 7 4],\n",
    "                    [8 8 5 2],\n",
    "                    [1 5 6 1]]\n",
    "Seleccione con una instrucción el subarray de elementos\n",
    "                    [0 3 7 4]\n",
    "Después, seleccione el subarray de elementos\n",
    "                      [[2 5],\n",
    "                      [8 5]]"
   ]
  },
  {
   "cell_type": "code",
   "execution_count": 9,
   "metadata": {},
   "outputs": [
    {
     "name": "stdout",
     "output_type": "stream",
     "text": [
      "El subarray seleccionado es: [0 3 7 4]\n",
      "El subarray seleccionado es: [[2 5]\n",
      " [0 7]]\n"
     ]
    }
   ],
   "source": [
    "arr = np.array([[2, 4, 5, 6],\n",
    "                [0, 3, 7, 4],\n",
    "                [8, 8, 5, 2],\n",
    "                [1, 5, 6, 1]])\n",
    "\n",
    "sub_1 = arr[1]\n",
    "print(\"El subarray seleccionado es:\", sub_1)\n",
    "sub_2 = arr[:2, [0, 2]]\n",
    "print(\"El subarray seleccionado es:\", sub_2)"
   ]
  },
  {
   "attachments": {},
   "cell_type": "markdown",
   "metadata": {},
   "source": [
    "4. Dados los arrays a = [1, 4, 2, 7] y b = [1, 3, 2, 9], obtenga la media aritmética de la diferencia (a-b)."
   ]
  },
  {
   "cell_type": "code",
   "execution_count": 10,
   "metadata": {},
   "outputs": [
    {
     "name": "stdout",
     "output_type": "stream",
     "text": [
      "La media aritmética de la diferencia (a-b) es: -0.25\n"
     ]
    }
   ],
   "source": [
    "a = np.array([1, 4, 2, 7])\n",
    "b = np.array([1, 3, 2, 9])\n",
    "\n",
    "diferencia = a - b\n",
    "media = np.mean(diferencia)\n",
    "\n",
    "print(\"La media aritmética de la diferencia (a-b) es:\", media)"
   ]
  },
  {
   "attachments": {},
   "cell_type": "markdown",
   "metadata": {},
   "source": [
    "5. Tengo valores de cordenadas (x, y) en las columnas del array:\n",
    "[[1.33, 4.5],\n",
    "[30.0, 10.7],\n",
    "[70.2, 0.5]]\n",
    "<br>\n",
    "Agregue a este array las coordenadas (37.1, -3.6). Muestre en pantalla las dimensiones del nuevo array."
   ]
  },
  {
   "cell_type": "code",
   "execution_count": 11,
   "metadata": {},
   "outputs": [
    {
     "name": "stdout",
     "output_type": "stream",
     "text": [
      "Las dimensiones del nuevo array son: (4, 2)\n"
     ]
    }
   ],
   "source": [
    "coord = np.array([[1.33, 4.5],\n",
    "                [30.0, 10.7],\n",
    "                [70.2, 0.5]])\n",
    "\n",
    "nueva_fila = np.array([37.1, -3.6])\n",
    "coord_nuevas = np.append(coord, [nueva_fila], axis=0)\n",
    "\n",
    "print(\"Las dimensiones del nuevo array son:\", coord_nuevas.shape)"
   ]
  },
  {
   "attachments": {},
   "cell_type": "markdown",
   "metadata": {},
   "source": [
    "6. Copie el array del ejercicio anterior. Traspóngalo. Agregue ahora dos nuevos pares de coordenadas: (10.8, 3.0) y (35.8, 12.0)."
   ]
  },
  {
   "cell_type": "code",
   "execution_count": 12,
   "metadata": {},
   "outputs": [
    {
     "name": "stdout",
     "output_type": "stream",
     "text": [
      "Array transpuesto:\n",
      " [[ 1.33 30.   70.2  37.1 ]\n",
      " [ 4.5  10.7   0.5  -3.6 ]]\n",
      "Array transpuesto con nuevas filas:\n",
      " [[ 1.33 30.   70.2  37.1  10.8  35.8 ]\n",
      " [ 4.5  10.7   0.5  -3.6   3.   12.  ]]\n"
     ]
    }
   ],
   "source": [
    "coord_t = coord_nuevas.T\n",
    "print(\"Array transpuesto:\\n\", coord_t)\n",
    "\n",
    "nuevas_filas = np.array([[10.8, 3.0],\n",
    "                         [35.8, 12.0]])\n",
    "\n",
    "coord_t_nuevo = np.append(coord_t, nuevas_filas.T, axis=1)\n",
    "print(\"Array transpuesto con nuevas filas:\\n\", coord_t_nuevo)"
   ]
  },
  {
   "attachments": {},
   "cell_type": "markdown",
   "metadata": {},
   "source": [
    "## Parte 2: Exploración y Minería de Datos\n",
    "Con el dataset nucleospoblacion.csv adjunto al laboratorio, luego responda las siguientes preguntas usando pandas y matplotlib."
   ]
  },
  {
   "attachments": {},
   "cell_type": "markdown",
   "metadata": {},
   "source": [
    "1. ¿Cuántos Municipios tienen más de 100000 habitantes?"
   ]
  },
  {
   "cell_type": "code",
   "execution_count": 14,
   "metadata": {},
   "outputs": [
    {
     "name": "stdout",
     "output_type": "stream",
     "text": [
      "Hay 62 municipios con más de 100000 habitantes.\n"
     ]
    }
   ],
   "source": [
    "# Se cargan los datos del archivo CSV en un DataFrame de pandas\n",
    "df = pd.read_csv(\"data/NucleosPoblacion.csv\")\n",
    "\n",
    "# Se seleccionan los municipios con más de 100000 habitantes y contarlos\n",
    "num_municipios = len(df[df[\"Poblacion\"] > 100000][\"Municipio\"].unique())\n",
    "\n",
    "print(f\"Hay {num_municipios} municipios con más de 100000 habitantes.\")"
   ]
  },
  {
   "attachments": {},
   "cell_type": "markdown",
   "metadata": {},
   "source": [
    "2. Realice una gráfica de barras sobre la población de cada Municipio, ordenela de menor a mayo y responda: <br>\n",
    "    a. ¿Cuál es la segunda ciudad más poblada?<br>\n",
    "    b. ¿Qué posición ocupa Granada en el ranking de las ciudades más pobladas?"
   ]
  },
  {
   "cell_type": "code",
   "execution_count": null,
   "metadata": {},
   "outputs": [],
   "source": [
    "# Se ordenan los datos por población de menor a mayor\n",
    "df_orden = df.sort_values(\"Poblacion\")\n",
    "# Se crea la gráfica de barras\n",
    "plt.barh(df_orden[\"Municipio\"], df_orden[\"Poblacion\"])\n",
    "plt.xlabel(\"Población\")\n",
    "plt.show()"
   ]
  },
  {
   "cell_type": "code",
   "execution_count": 21,
   "metadata": {},
   "outputs": [
    {
     "name": "stdout",
     "output_type": "stream",
     "text": [
      "La segunda ciudad más poblada es Barcelona.\n",
      "Granada ocupa la posición número 273 en el ranking de ciudades más pobladas.\n"
     ]
    }
   ],
   "source": [
    "# a. Identificar la segunda ciudad más poblada\n",
    "segunda_ciudad = df_orden.iloc[-2][\"Municipio\"]\n",
    "print(f\"La segunda ciudad más poblada es {segunda_ciudad}.\")\n",
    "\n",
    "# b. Identificar la posición de Granada en el ranking\n",
    "posicion_granada = df_orden[df_orden[\"Municipio\"] == \"Granada\"].index.item() + 1\n",
    "print(f\"Granada ocupa la posición número {posicion_granada} en el ranking de ciudades más pobladas.\")"
   ]
  },
  {
   "attachments": {},
   "cell_type": "markdown",
   "metadata": {},
   "source": [
    "3. ¿Cuántos municipios de Extremadura tienen más de 5000 habitantes?."
   ]
  },
  {
   "cell_type": "code",
   "execution_count": 34,
   "metadata": {},
   "outputs": [
    {
     "name": "stdout",
     "output_type": "stream",
     "text": [
      "El número de municipios en Extremadura con más de 5000 habitantes es: 0\n"
     ]
    }
   ],
   "source": [
    "municipios_extremadura = df[df['Provincia'] == 'Extremadura']\n",
    "num_municipios_mas_5000 = len(municipios_extremadura[municipios_extremadura['Poblacion'] > 5000])\n",
    "\n",
    "print(\"El número de municipios en Extremadura con más de 5000 habitantes es:\", num_municipios_mas_5000)"
   ]
  },
  {
   "attachments": {},
   "cell_type": "markdown",
   "metadata": {},
   "source": [
    "4. ¿Cuál es el municipio situado más al Norte? (Usar el valor de la coordenada \"Y\" que representa la latitud en grados). Proporcione también la provincia a la que pertenece y su población."
   ]
  },
  {
   "cell_type": "code",
   "execution_count": 37,
   "metadata": {},
   "outputs": [
    {
     "name": "stdout",
     "output_type": "stream",
     "text": [
      "El municipio más al norte es Viveiro, en la provincia de Lugo, con una población de 16211.0 habitantes.\n"
     ]
    }
   ],
   "source": [
    "municipio_norte = df.loc[df['Y'].idxmax()]\n",
    "\n",
    "print(f\"El municipio más al norte es {municipio_norte['Municipio']}, en la provincia de {municipio_norte['Provincia']}, con una población de {municipio_norte['Poblacion']} habitantes.\")"
   ]
  },
  {
   "attachments": {},
   "cell_type": "markdown",
   "metadata": {},
   "source": [
    "5. Obtenga la media, mediana, desviación estándar, valor máximo y valor mínimo de la población de los municipios\n",
    "de la provincia de Granada."
   ]
  },
  {
   "cell_type": "code",
   "execution_count": 40,
   "metadata": {},
   "outputs": [
    {
     "name": "stdout",
     "output_type": "stream",
     "text": [
      "Estadísticas de la población de los municipios de Granada:\n",
      " count        20.000000\n",
      "mean      30217.850000\n",
      "std       50355.491715\n",
      "min       10386.000000\n",
      "25%       13146.500000\n",
      "50%       17526.000000\n",
      "75%       21739.750000\n",
      "max      239154.000000\n",
      "Name: Poblacion, dtype: float64\n"
     ]
    }
   ],
   "source": [
    "# Se filtran los municipios de Granada\n",
    "df_granada = df.loc[df['Provincia'] == 'Granada']\n",
    "\n",
    "# Se obtienen las estadísticas de la población\n",
    "estadisticas_poblacion = df_granada['Poblacion'].describe()\n",
    "\n",
    "print(f\"Estadísticas de la población de los municipios de Granada:\\n {estadisticas_poblacion}\")"
   ]
  },
  {
   "attachments": {},
   "cell_type": "markdown",
   "metadata": {},
   "source": [
    "6. Realice un histograma con la población de los Municipios para cada una de las provincias."
   ]
  },
  {
   "cell_type": "code",
   "execution_count": null,
   "metadata": {},
   "outputs": [],
   "source": [
    "# Se crean los histogramas\n",
    "df.hist(column='Poblacion', by='Provincia', bins=20, figsize=(10, 8))\n",
    "\n",
    "plt.show()"
   ]
  },
  {
   "attachments": {},
   "cell_type": "markdown",
   "metadata": {},
   "source": [
    "7. Seleccione al azar cincuenta municipios diferentes de entre los diponibles en el archivo. Asegúrese de que no se repitan. ¿Luego calcule el promedio de la población y la desviación estándar de esto 50 municipios?"
   ]
  },
  {
   "cell_type": "code",
   "execution_count": 46,
   "metadata": {},
   "outputs": [
    {
     "name": "stdout",
     "output_type": "stream",
     "text": [
      "Promedio de población de los 50 municipios seleccionados: 33233.79\n",
      "Desviación estándar de la población de los 50 municipios seleccionados: 37122.97\n"
     ]
    }
   ],
   "source": [
    "# Se cargan los municipios en una lista\n",
    "municipios = df['Municipio'].unique().tolist()\n",
    "# Se genera una muestra al azar de numeros\n",
    "muestra = random.sample(municipios, 50)\n",
    "# Se seleccionan los 50 municipios al azar\n",
    "muestra_data = df[df['Municipio'].isin(muestra)]\n",
    "\n",
    "poblacion_mean = muestra_data['Poblacion'].mean()\n",
    "poblacion_std = muestra_data['Poblacion'].std()\n",
    "\n",
    "print(f\"Promedio de población de los 50 municipios seleccionados: {round(poblacion_mean, 2)}\")\n",
    "print(f\"Desviación estándar de la población de los 50 municipios seleccionados: {round(poblacion_std, 2)}\")"
   ]
  },
  {
   "attachments": {},
   "cell_type": "markdown",
   "metadata": {},
   "source": [
    "8. Dígame los nombres de los Municipios más cercano y más\n",
    "lejano a Madrid. Para ello debe calcular la distancia en\n",
    "todos ellos y Madrid. No considere a Madrid en el\n",
    "análisis ya que la distancia sería cero."
   ]
  },
  {
   "cell_type": "code",
   "execution_count": 56,
   "metadata": {},
   "outputs": [],
   "source": [
    "# Se obtienen las coordenadas de Madrid\n",
    "madrid_latitud = df[df['Municipio'] == 'Madrid']['X'].values[0]\n",
    "madrid_longitud = df[df['Municipio'] == 'Madrid']['Y'].values[0]\n",
    "\n",
    "# Se filtran los municipios que no sean Madrid\n",
    "df_municipios_ntmadrid = df[df['Municipio'] != 'Madrid']"
   ]
  },
  {
   "cell_type": "code",
   "execution_count": 57,
   "metadata": {},
   "outputs": [
    {
     "name": "stdout",
     "output_type": "stream",
     "text": [
      "El municipio más cercano a Madrid es: Maó\n",
      "El municipio más lejano a Madrid es: Carballo\n"
     ]
    }
   ],
   "source": [
    "# Se calcula la distancia entre Madrid y cada municipio\n",
    "distancias = np.sqrt((df_municipios_ntmadrid['Y'] - madrid_latitud)**2 + (df_municipios_ntmadrid['X'] - madrid_longitud)**2)\n",
    "\n",
    "# Se encuentra el índice del municipio más cercano y más lejano\n",
    "indice_municipio_mas_cercano = distancias.idxmin()\n",
    "indice_municipio_mas_lejano = distancias.idxmax()\n",
    "\n",
    "# Se obtiene el nombre de los municipios más cercano y más lejano\n",
    "nombre_municipio_mas_cercano = df_municipios_ntmadrid.loc[indice_municipio_mas_cercano, 'Municipio']\n",
    "nombre_municipio_mas_lejano = df_municipios_ntmadrid.loc[indice_municipio_mas_lejano, 'Municipio']\n",
    "\n",
    "print(\"El municipio más cercano a Madrid es:\", nombre_municipio_mas_cercano)\n",
    "print(\"El municipio más lejano a Madrid es:\", nombre_municipio_mas_lejano)"
   ]
  }
 ],
 "metadata": {
  "kernelspec": {
   "display_name": "base",
   "language": "python",
   "name": "python3"
  },
  "language_info": {
   "codemirror_mode": {
    "name": "ipython",
    "version": 3
   },
   "file_extension": ".py",
   "mimetype": "text/x-python",
   "name": "python",
   "nbconvert_exporter": "python",
   "pygments_lexer": "ipython3",
   "version": "3.9.13"
  },
  "orig_nbformat": 4
 },
 "nbformat": 4,
 "nbformat_minor": 2
}
