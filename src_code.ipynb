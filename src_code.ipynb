{
 "cells": [
  {
   "attachments": {},
   "cell_type": "markdown",
   "metadata": {},
   "source": [
    "## Parte 1: Numpy:\n",
    "Para los ejercicios siguiente genere el código que considere para resolver el problema que se le plantea."
   ]
  },
  {
   "cell_type": "code",
   "execution_count": 6,
   "metadata": {},
   "outputs": [],
   "source": [
    "# Celda para almacenar los imports\n",
    "import sys\n",
    "import numpy as np"
   ]
  },
  {
   "attachments": {},
   "cell_type": "markdown",
   "metadata": {},
   "source": [
    "1. ¿Cuál es el tamaño en bytes de un array de 1000 elementos de tipo booleano?"
   ]
  },
  {
   "cell_type": "code",
   "execution_count": 4,
   "metadata": {},
   "outputs": [
    {
     "name": "stdout",
     "output_type": "stream",
     "text": [
      "El tamaño del array de booleanos es: 8056 bytes\n"
     ]
    }
   ],
   "source": [
    "bool_array = [True] * 1000\n",
    "size = sys.getsizeof(bool_array)\n",
    "print(\"El tamaño del array de booleanos es:\", size, \"bytes\")"
   ]
  },
  {
   "attachments": {},
   "cell_type": "markdown",
   "metadata": {},
   "source": [
    "2. Cree un array cuyos elementos sean los enteros pares en [1,100] y en orden decreciente. Muestre los 10 últimos por pantalla."
   ]
  },
  {
   "cell_type": "code",
   "execution_count": 5,
   "metadata": {},
   "outputs": [
    {
     "name": "stdout",
     "output_type": "stream",
     "text": [
      "Los últimos 10 números pares son: [20, 18, 16, 14, 12, 10, 8, 6, 4, 2]\n"
     ]
    }
   ],
   "source": [
    "pares = [i for i in range(100, 0, -2)]\n",
    "ultimos_10 = pares[-10:]\n",
    "print(\"Los últimos 10 números pares son:\", ultimos_10)"
   ]
  },
  {
   "attachments": {},
   "cell_type": "markdown",
   "metadata": {},
   "source": [
    "3. Dado el array\n",
    "                    [[2 4 5 6],\n",
    "                    [0 3 7 4],\n",
    "                    [8 8 5 2],\n",
    "                    [1 5 6 1]]\n",
    "Seleccione con una instrucción el subarray de elementos\n",
    "                    [0 3 7 4]\n",
    "Después, seleccione el subarray de elementos\n",
    "                      [[2 5],\n",
    "                      [8 5]]"
   ]
  },
  {
   "cell_type": "code",
   "execution_count": 9,
   "metadata": {},
   "outputs": [
    {
     "name": "stdout",
     "output_type": "stream",
     "text": [
      "El subarray seleccionado es: [0 3 7 4]\n",
      "El subarray seleccionado es: [[2 5]\n",
      " [0 7]]\n"
     ]
    }
   ],
   "source": [
    "arr = np.array([[2, 4, 5, 6],\n",
    "                [0, 3, 7, 4],\n",
    "                [8, 8, 5, 2],\n",
    "                [1, 5, 6, 1]])\n",
    "\n",
    "sub_1 = arr[1]\n",
    "print(\"El subarray seleccionado es:\", sub_1)\n",
    "sub_2 = arr[:2, [0, 2]]\n",
    "print(\"El subarray seleccionado es:\", sub_2)"
   ]
  },
  {
   "attachments": {},
   "cell_type": "markdown",
   "metadata": {},
   "source": [
    "4. Dados los arrays a = [1, 4, 2, 7] y b = [1, 3, 2, 9], obtenga la media aritmética de la diferencia (a-b)."
   ]
  },
  {
   "cell_type": "code",
   "execution_count": 10,
   "metadata": {},
   "outputs": [
    {
     "name": "stdout",
     "output_type": "stream",
     "text": [
      "La media aritmética de la diferencia (a-b) es: -0.25\n"
     ]
    }
   ],
   "source": [
    "a = np.array([1, 4, 2, 7])\n",
    "b = np.array([1, 3, 2, 9])\n",
    "\n",
    "diferencia = a - b\n",
    "media = np.mean(diferencia)\n",
    "\n",
    "print(\"La media aritmética de la diferencia (a-b) es:\", media)"
   ]
  },
  {
   "attachments": {},
   "cell_type": "markdown",
   "metadata": {},
   "source": [
    "5. Tengo valores de cordenadas (x, y) en las columnas del array:\n",
    "[[1.33, 4.5],\n",
    "[30.0, 10.7],\n",
    "[70.2, 0.5]]\n",
    "<br>\n",
    "Agregue a este array las coordenadas (37.1, -3.6). Muestre en pantalla las dimensiones del nuevo array."
   ]
  },
  {
   "cell_type": "code",
   "execution_count": 11,
   "metadata": {},
   "outputs": [
    {
     "name": "stdout",
     "output_type": "stream",
     "text": [
      "Las dimensiones del nuevo array son: (4, 2)\n"
     ]
    }
   ],
   "source": [
    "coord = np.array([[1.33, 4.5],\n",
    "                [30.0, 10.7],\n",
    "                [70.2, 0.5]])\n",
    "\n",
    "nueva_fila = np.array([37.1, -3.6])\n",
    "coord_nuevas = np.append(coord, [nueva_fila], axis=0)\n",
    "\n",
    "print(\"Las dimensiones del nuevo array son:\", coord_nuevas.shape)"
   ]
  },
  {
   "attachments": {},
   "cell_type": "markdown",
   "metadata": {},
   "source": [
    "6. Copie el array del ejercicio anterior. Traspóngalo. Agregue ahora dos nuevos pares de coordenadas: (10.8, 3.0) y (35.8, 12.0)."
   ]
  },
  {
   "cell_type": "code",
   "execution_count": 12,
   "metadata": {},
   "outputs": [
    {
     "name": "stdout",
     "output_type": "stream",
     "text": [
      "Array transpuesto:\n",
      " [[ 1.33 30.   70.2  37.1 ]\n",
      " [ 4.5  10.7   0.5  -3.6 ]]\n",
      "Array transpuesto con nuevas filas:\n",
      " [[ 1.33 30.   70.2  37.1  10.8  35.8 ]\n",
      " [ 4.5  10.7   0.5  -3.6   3.   12.  ]]\n"
     ]
    }
   ],
   "source": [
    "coord_t = coord_nuevas.T\n",
    "print(\"Array transpuesto:\\n\", coord_t)\n",
    "\n",
    "nuevas_filas = np.array([[10.8, 3.0],\n",
    "                         [35.8, 12.0]])\n",
    "\n",
    "coord_t_nuevo = np.append(coord_t, nuevas_filas.T, axis=1)\n",
    "print(\"Array transpuesto con nuevas filas:\\n\", coord_t_nuevo)"
   ]
  }
 ],
 "metadata": {
  "kernelspec": {
   "display_name": "base",
   "language": "python",
   "name": "python3"
  },
  "language_info": {
   "codemirror_mode": {
    "name": "ipython",
    "version": 3
   },
   "file_extension": ".py",
   "mimetype": "text/x-python",
   "name": "python",
   "nbconvert_exporter": "python",
   "pygments_lexer": "ipython3",
   "version": "3.9.13"
  },
  "orig_nbformat": 4
 },
 "nbformat": 4,
 "nbformat_minor": 2
}
